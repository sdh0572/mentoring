{
 "cells": [
  {
   "cell_type": "code",
   "execution_count": 2,
   "id": "4662ebbc",
   "metadata": {},
   "outputs": [
    {
     "name": "stdout",
     "output_type": "stream",
     "text": [
      "<class 'pandas.core.frame.DataFrame'>\n",
      "RangeIndex: 48842 entries, 0 to 48841\n",
      "Data columns (total 15 columns):\n",
      " #   Column          Non-Null Count  Dtype \n",
      "---  ------          --------------  ----- \n",
      " 0   age             48842 non-null  int64 \n",
      " 1   workclass       48842 non-null  object\n",
      " 2   fnlwgt          48842 non-null  int64 \n",
      " 3   education       48842 non-null  object\n",
      " 4   education_num   48842 non-null  int64 \n",
      " 5   marital_status  48842 non-null  object\n",
      " 6   occupation      48842 non-null  object\n",
      " 7   relationship    48842 non-null  object\n",
      " 8   race            48842 non-null  object\n",
      " 9   sex             48842 non-null  object\n",
      " 10  capital_gain    48842 non-null  int64 \n",
      " 11  capital_loss    48842 non-null  int64 \n",
      " 12  hours_per_week  48842 non-null  int64 \n",
      " 13  native_country  48842 non-null  object\n",
      " 14  income          48842 non-null  object\n",
      "dtypes: int64(6), object(9)\n",
      "memory usage: 5.6+ MB\n"
     ]
    }
   ],
   "source": [
    "import pandas as pd\n",
    "df = pd.read_csv('adult.csv')\n",
    "df.info()"
   ]
  },
  {
   "cell_type": "code",
   "execution_count": 3,
   "id": "f62ce592",
   "metadata": {},
   "outputs": [
    {
     "data": {
      "text/plain": [
       "<=50K    0.760718\n",
       ">50K     0.239282\n",
       "Name: income, dtype: float64"
      ]
     },
     "execution_count": 3,
     "metadata": {},
     "output_type": "execute_result"
    }
   ],
   "source": [
    "df['income'].value_counts(normalize = True)"
   ]
  },
  {
   "cell_type": "code",
   "execution_count": 4,
   "id": "fa6617d2",
   "metadata": {},
   "outputs": [
    {
     "data": {
      "text/plain": [
       "low     0.760718\n",
       "high    0.239282\n",
       "Name: income, dtype: float64"
      ]
     },
     "execution_count": 4,
     "metadata": {},
     "output_type": "execute_result"
    }
   ],
   "source": [
    "import numpy as np\n",
    "df['income'] = np.where(df['income'] == '>50K', 'high', 'low')\n",
    "df['income'].value_counts(normalize = True)"
   ]
  },
  {
   "cell_type": "code",
   "execution_count": 5,
   "id": "0b018da5",
   "metadata": {},
   "outputs": [],
   "source": [
    "df = df.drop(columns = 'fnlwgt')"
   ]
  },
  {
   "cell_type": "code",
   "execution_count": 6,
   "id": "6f2fa77f",
   "metadata": {},
   "outputs": [
    {
     "name": "stdout",
     "output_type": "stream",
     "text": [
      "<class 'pandas.core.frame.DataFrame'>\n",
      "RangeIndex: 48842 entries, 0 to 48841\n",
      "Data columns (total 1 columns):\n",
      " #   Column  Non-Null Count  Dtype \n",
      "---  ------  --------------  ----- \n",
      " 0   sex     48842 non-null  object\n",
      "dtypes: object(1)\n",
      "memory usage: 381.7+ KB\n"
     ]
    }
   ],
   "source": [
    "df_tmp = df[['sex']]\n",
    "df_tmp.info()"
   ]
  },
  {
   "cell_type": "code",
   "execution_count": 7,
   "id": "06116c52",
   "metadata": {},
   "outputs": [
    {
     "data": {
      "text/plain": [
       "Male      32650\n",
       "Female    16192\n",
       "Name: sex, dtype: int64"
      ]
     },
     "execution_count": 7,
     "metadata": {},
     "output_type": "execute_result"
    }
   ],
   "source": [
    "df_tmp['sex'].value_counts()"
   ]
  },
  {
   "cell_type": "code",
   "execution_count": 8,
   "id": "2bc71400",
   "metadata": {},
   "outputs": [
    {
     "name": "stdout",
     "output_type": "stream",
     "text": [
      "<class 'pandas.core.frame.DataFrame'>\n",
      "RangeIndex: 48842 entries, 0 to 48841\n",
      "Data columns (total 2 columns):\n",
      " #   Column      Non-Null Count  Dtype\n",
      "---  ------      --------------  -----\n",
      " 0   sex_Female  48842 non-null  uint8\n",
      " 1   sex_Male    48842 non-null  uint8\n",
      "dtypes: uint8(2)\n",
      "memory usage: 95.5 KB\n"
     ]
    }
   ],
   "source": [
    "df_tmp = pd.get_dummies(df_tmp)\n",
    "df_tmp.info()"
   ]
  },
  {
   "cell_type": "code",
   "execution_count": 9,
   "id": "19331107",
   "metadata": {},
   "outputs": [
    {
     "data": {
      "text/html": [
       "<div>\n",
       "<style scoped>\n",
       "    .dataframe tbody tr th:only-of-type {\n",
       "        vertical-align: middle;\n",
       "    }\n",
       "\n",
       "    .dataframe tbody tr th {\n",
       "        vertical-align: top;\n",
       "    }\n",
       "\n",
       "    .dataframe thead th {\n",
       "        text-align: right;\n",
       "    }\n",
       "</style>\n",
       "<table border=\"1\" class=\"dataframe\">\n",
       "  <thead>\n",
       "    <tr style=\"text-align: right;\">\n",
       "      <th></th>\n",
       "      <th>sex_Female</th>\n",
       "      <th>sex_Male</th>\n",
       "    </tr>\n",
       "  </thead>\n",
       "  <tbody>\n",
       "    <tr>\n",
       "      <th>0</th>\n",
       "      <td>0</td>\n",
       "      <td>1</td>\n",
       "    </tr>\n",
       "    <tr>\n",
       "      <th>1</th>\n",
       "      <td>0</td>\n",
       "      <td>1</td>\n",
       "    </tr>\n",
       "    <tr>\n",
       "      <th>2</th>\n",
       "      <td>0</td>\n",
       "      <td>1</td>\n",
       "    </tr>\n",
       "    <tr>\n",
       "      <th>3</th>\n",
       "      <td>0</td>\n",
       "      <td>1</td>\n",
       "    </tr>\n",
       "    <tr>\n",
       "      <th>4</th>\n",
       "      <td>1</td>\n",
       "      <td>0</td>\n",
       "    </tr>\n",
       "  </tbody>\n",
       "</table>\n",
       "</div>"
      ],
      "text/plain": [
       "   sex_Female  sex_Male\n",
       "0           0         1\n",
       "1           0         1\n",
       "2           0         1\n",
       "3           0         1\n",
       "4           1         0"
      ]
     },
     "execution_count": 9,
     "metadata": {},
     "output_type": "execute_result"
    }
   ],
   "source": [
    "df_tmp[['sex_Female', 'sex_Male']].head()"
   ]
  },
  {
   "cell_type": "code",
   "execution_count": 10,
   "id": "b45ce4c3",
   "metadata": {},
   "outputs": [
    {
     "name": "stdout",
     "output_type": "stream",
     "text": [
      "<class 'pandas.core.frame.DataFrame'>\n",
      "RangeIndex: 48842 entries, 0 to 48841\n",
      "Columns: 108 entries, age to income\n",
      "dtypes: int64(5), object(1), uint8(102)\n",
      "memory usage: 7.0+ MB\n"
     ]
    }
   ],
   "source": [
    "target = df['income']\n",
    "\n",
    "df = df.drop(columns = 'income')\n",
    "df= pd.get_dummies(df)\n",
    "\n",
    "df['income'] = target\n",
    "df.info()"
   ]
  },
  {
   "cell_type": "code",
   "execution_count": 11,
   "id": "e9cbfd22",
   "metadata": {},
   "outputs": [
    {
     "name": "stdout",
     "output_type": "stream",
     "text": [
      "<class 'pandas.core.frame.DataFrame'>\n",
      "RangeIndex: 48842 entries, 0 to 48841\n",
      "Data columns (total 108 columns):\n",
      " #    Column                                     Non-Null Count  Dtype \n",
      "---   ------                                     --------------  ----- \n",
      " 0    age                                        48842 non-null  int64 \n",
      " 1    education_num                              48842 non-null  int64 \n",
      " 2    capital_gain                               48842 non-null  int64 \n",
      " 3    capital_loss                               48842 non-null  int64 \n",
      " 4    hours_per_week                             48842 non-null  int64 \n",
      " 5    workclass_?                                48842 non-null  uint8 \n",
      " 6    workclass_Federal-gov                      48842 non-null  uint8 \n",
      " 7    workclass_Local-gov                        48842 non-null  uint8 \n",
      " 8    workclass_Never-worked                     48842 non-null  uint8 \n",
      " 9    workclass_Private                          48842 non-null  uint8 \n",
      " 10   workclass_Self-emp-inc                     48842 non-null  uint8 \n",
      " 11   workclass_Self-emp-not-inc                 48842 non-null  uint8 \n",
      " 12   workclass_State-gov                        48842 non-null  uint8 \n",
      " 13   workclass_Without-pay                      48842 non-null  uint8 \n",
      " 14   education_10th                             48842 non-null  uint8 \n",
      " 15   education_11th                             48842 non-null  uint8 \n",
      " 16   education_12th                             48842 non-null  uint8 \n",
      " 17   education_1st-4th                          48842 non-null  uint8 \n",
      " 18   education_5th-6th                          48842 non-null  uint8 \n",
      " 19   education_7th-8th                          48842 non-null  uint8 \n",
      " 20   education_9th                              48842 non-null  uint8 \n",
      " 21   education_Assoc-acdm                       48842 non-null  uint8 \n",
      " 22   education_Assoc-voc                        48842 non-null  uint8 \n",
      " 23   education_Bachelors                        48842 non-null  uint8 \n",
      " 24   education_Doctorate                        48842 non-null  uint8 \n",
      " 25   education_HS-grad                          48842 non-null  uint8 \n",
      " 26   education_Masters                          48842 non-null  uint8 \n",
      " 27   education_Preschool                        48842 non-null  uint8 \n",
      " 28   education_Prof-school                      48842 non-null  uint8 \n",
      " 29   education_Some-college                     48842 non-null  uint8 \n",
      " 30   marital_status_Divorced                    48842 non-null  uint8 \n",
      " 31   marital_status_Married-AF-spouse           48842 non-null  uint8 \n",
      " 32   marital_status_Married-civ-spouse          48842 non-null  uint8 \n",
      " 33   marital_status_Married-spouse-absent       48842 non-null  uint8 \n",
      " 34   marital_status_Never-married               48842 non-null  uint8 \n",
      " 35   marital_status_Separated                   48842 non-null  uint8 \n",
      " 36   marital_status_Widowed                     48842 non-null  uint8 \n",
      " 37   occupation_?                               48842 non-null  uint8 \n",
      " 38   occupation_Adm-clerical                    48842 non-null  uint8 \n",
      " 39   occupation_Armed-Forces                    48842 non-null  uint8 \n",
      " 40   occupation_Craft-repair                    48842 non-null  uint8 \n",
      " 41   occupation_Exec-managerial                 48842 non-null  uint8 \n",
      " 42   occupation_Farming-fishing                 48842 non-null  uint8 \n",
      " 43   occupation_Handlers-cleaners               48842 non-null  uint8 \n",
      " 44   occupation_Machine-op-inspct               48842 non-null  uint8 \n",
      " 45   occupation_Other-service                   48842 non-null  uint8 \n",
      " 46   occupation_Priv-house-serv                 48842 non-null  uint8 \n",
      " 47   occupation_Prof-specialty                  48842 non-null  uint8 \n",
      " 48   occupation_Protective-serv                 48842 non-null  uint8 \n",
      " 49   occupation_Sales                           48842 non-null  uint8 \n",
      " 50   occupation_Tech-support                    48842 non-null  uint8 \n",
      " 51   occupation_Transport-moving                48842 non-null  uint8 \n",
      " 52   relationship_Husband                       48842 non-null  uint8 \n",
      " 53   relationship_Not-in-family                 48842 non-null  uint8 \n",
      " 54   relationship_Other-relative                48842 non-null  uint8 \n",
      " 55   relationship_Own-child                     48842 non-null  uint8 \n",
      " 56   relationship_Unmarried                     48842 non-null  uint8 \n",
      " 57   relationship_Wife                          48842 non-null  uint8 \n",
      " 58   race_Amer-Indian-Eskimo                    48842 non-null  uint8 \n",
      " 59   race_Asian-Pac-Islander                    48842 non-null  uint8 \n",
      " 60   race_Black                                 48842 non-null  uint8 \n",
      " 61   race_Other                                 48842 non-null  uint8 \n",
      " 62   race_White                                 48842 non-null  uint8 \n",
      " 63   sex_Female                                 48842 non-null  uint8 \n",
      " 64   sex_Male                                   48842 non-null  uint8 \n",
      " 65   native_country_?                           48842 non-null  uint8 \n",
      " 66   native_country_Cambodia                    48842 non-null  uint8 \n",
      " 67   native_country_Canada                      48842 non-null  uint8 \n",
      " 68   native_country_China                       48842 non-null  uint8 \n",
      " 69   native_country_Columbia                    48842 non-null  uint8 \n",
      " 70   native_country_Cuba                        48842 non-null  uint8 \n",
      " 71   native_country_Dominican-Republic          48842 non-null  uint8 \n",
      " 72   native_country_Ecuador                     48842 non-null  uint8 \n",
      " 73   native_country_El-Salvador                 48842 non-null  uint8 \n",
      " 74   native_country_England                     48842 non-null  uint8 \n",
      " 75   native_country_France                      48842 non-null  uint8 \n",
      " 76   native_country_Germany                     48842 non-null  uint8 \n",
      " 77   native_country_Greece                      48842 non-null  uint8 \n",
      " 78   native_country_Guatemala                   48842 non-null  uint8 \n",
      " 79   native_country_Haiti                       48842 non-null  uint8 \n",
      " 80   native_country_Holand-Netherlands          48842 non-null  uint8 \n",
      " 81   native_country_Honduras                    48842 non-null  uint8 \n",
      " 82   native_country_Hong                        48842 non-null  uint8 \n",
      " 83   native_country_Hungary                     48842 non-null  uint8 \n",
      " 84   native_country_India                       48842 non-null  uint8 \n",
      " 85   native_country_Iran                        48842 non-null  uint8 \n",
      " 86   native_country_Ireland                     48842 non-null  uint8 \n",
      " 87   native_country_Italy                       48842 non-null  uint8 \n",
      " 88   native_country_Jamaica                     48842 non-null  uint8 \n",
      " 89   native_country_Japan                       48842 non-null  uint8 \n",
      " 90   native_country_Laos                        48842 non-null  uint8 \n",
      " 91   native_country_Mexico                      48842 non-null  uint8 \n",
      " 92   native_country_Nicaragua                   48842 non-null  uint8 \n",
      " 93   native_country_Outlying-US(Guam-USVI-etc)  48842 non-null  uint8 \n",
      " 94   native_country_Peru                        48842 non-null  uint8 \n",
      " 95   native_country_Philippines                 48842 non-null  uint8 \n",
      " 96   native_country_Poland                      48842 non-null  uint8 \n",
      " 97   native_country_Portugal                    48842 non-null  uint8 \n",
      " 98   native_country_Puerto-Rico                 48842 non-null  uint8 \n",
      " 99   native_country_Scotland                    48842 non-null  uint8 \n",
      " 100  native_country_South                       48842 non-null  uint8 \n",
      " 101  native_country_Taiwan                      48842 non-null  uint8 \n",
      " 102  native_country_Thailand                    48842 non-null  uint8 \n",
      " 103  native_country_Trinadad&Tobago             48842 non-null  uint8 \n",
      " 104  native_country_United-States               48842 non-null  uint8 \n",
      " 105  native_country_Vietnam                     48842 non-null  uint8 \n",
      " 106  native_country_Yugoslavia                  48842 non-null  uint8 \n",
      " 107  income                                     48842 non-null  object\n",
      "dtypes: int64(5), object(1), uint8(102)\n",
      "memory usage: 7.0+ MB\n"
     ]
    }
   ],
   "source": [
    "import numpy as np\n",
    "df.info(max_cols = np.inf)"
   ]
  },
  {
   "cell_type": "code",
   "execution_count": 12,
   "id": "8c3daff5",
   "metadata": {},
   "outputs": [],
   "source": [
    "from sklearn.model_selection import train_test_split\n",
    "df_train, df_test = train_test_split(df, test_size = 0.3, stratify = df['income'], random_state = 1234)"
   ]
  },
  {
   "cell_type": "code",
   "execution_count": 13,
   "id": "cd531dc8",
   "metadata": {},
   "outputs": [
    {
     "data": {
      "text/plain": [
       "(34189, 108)"
      ]
     },
     "execution_count": 13,
     "metadata": {},
     "output_type": "execute_result"
    }
   ],
   "source": [
    "df_train.shape"
   ]
  },
  {
   "cell_type": "code",
   "execution_count": 14,
   "id": "410cccf8",
   "metadata": {},
   "outputs": [
    {
     "data": {
      "text/plain": [
       "(14653, 108)"
      ]
     },
     "execution_count": 14,
     "metadata": {},
     "output_type": "execute_result"
    }
   ],
   "source": [
    "df_test.shape"
   ]
  },
  {
   "cell_type": "code",
   "execution_count": 15,
   "id": "b956e859",
   "metadata": {},
   "outputs": [
    {
     "data": {
      "text/plain": [
       "low     0.760713\n",
       "high    0.239287\n",
       "Name: income, dtype: float64"
      ]
     },
     "execution_count": 15,
     "metadata": {},
     "output_type": "execute_result"
    }
   ],
   "source": [
    "df_train['income'].value_counts(normalize = True)"
   ]
  },
  {
   "cell_type": "code",
   "execution_count": 16,
   "id": "b1d04160",
   "metadata": {},
   "outputs": [],
   "source": [
    "from sklearn import tree\n",
    "clf = tree.DecisionTreeClassifier(random_state = 1234, max_depth = 3)"
   ]
  },
  {
   "cell_type": "code",
   "execution_count": 17,
   "id": "cc80d4da",
   "metadata": {},
   "outputs": [],
   "source": [
    "train_x = df_train.drop(columns = 'income')  # 예측 변수 추출\n",
    "train_y = df_train['income']                 # 타겟 변수 추출\n",
    "\n",
    "model = clf.fit(X = train_x, y = train_y)    "
   ]
  },
  {
   "cell_type": "code",
   "execution_count": 18,
   "id": "e6def295",
   "metadata": {},
   "outputs": [
    {
     "data": {
      "image/png": "[encoded data removed]",
      "text/plain": [
       "<Figure size 1200x800 with 1 Axes>"
      ]
     },
     "metadata": {},
     "output_type": "display_data"
    }
   ],
   "source": [
    "import matplotlib.pyplot as plt\n",
    "plt.rcParams.update({'figure.figsize' : [12, 8],\n",
    "                    'figure.dpi' : '100'})\n",
    "tree.plot_tree(model);"
   ]
  },
  {
   "cell_type": "code",
   "execution_count": 19,
   "id": "4f8991bb",
   "metadata": {},
   "outputs": [
    {
     "ename": "InvalidParameterError",
     "evalue": "The 'feature_names' parameter of plot_tree must be an instance of 'list' or None. Got Index(['age', 'education_num', 'capital_gain', 'capital_loss',\n       'hours_per_week', 'workclass_?', 'workclass_Federal-gov',\n       'workclass_Local-gov', 'workclass_Never-worked', 'workclass_Private',\n       ...\n       'native_country_Portugal', 'native_country_Puerto-Rico',\n       'native_country_Scotland', 'native_country_South',\n       'native_country_Taiwan', 'native_country_Thailand',\n       'native_country_Trinadad&Tobago', 'native_country_United-States',\n       'native_country_Vietnam', 'native_country_Yugoslavia'],\n      dtype='object', length=107) instead.",
     "output_type": "error",
     "traceback": [
      "\u001b[1;31m---------------------------------------------------------------------------\u001b[0m",
      "\u001b[1;31mInvalidParameterError\u001b[0m                     Traceback (most recent call last)",
      "Cell \u001b[1;32mIn[19], line 2\u001b[0m\n\u001b[0;32m      1\u001b[0m \u001b[38;5;28;01mimport\u001b[39;00m \u001b[38;5;21;01mmatplotlib\u001b[39;00m\u001b[38;5;21;01m.\u001b[39;00m\u001b[38;5;21;01mpyplot\u001b[39;00m \u001b[38;5;28;01mas\u001b[39;00m \u001b[38;5;21;01mplt\u001b[39;00m\n\u001b[1;32m----> 2\u001b[0m tree\u001b[38;5;241m.\u001b[39mplot_tree(model,\n\u001b[0;32m      3\u001b[0m                feature_names \u001b[38;5;241m=\u001b[39m train_x\u001b[38;5;241m.\u001b[39mcolumns,  \n\u001b[0;32m      4\u001b[0m                class_names \u001b[38;5;241m=\u001b[39m [\u001b[38;5;124m'\u001b[39m\u001b[38;5;124mhigh\u001b[39m\u001b[38;5;124m'\u001b[39m, \u001b[38;5;124m'\u001b[39m\u001b[38;5;124mlow\u001b[39m\u001b[38;5;124m'\u001b[39m],    \n\u001b[0;32m      5\u001b[0m                proportion \u001b[38;5;241m=\u001b[39m \u001b[38;5;28;01mTrue\u001b[39;00m,                \n\u001b[0;32m      6\u001b[0m                filled \u001b[38;5;241m=\u001b[39m \u001b[38;5;28;01mTrue\u001b[39;00m,           \n\u001b[0;32m      7\u001b[0m                rounded \u001b[38;5;241m=\u001b[39m \u001b[38;5;28;01mTrue\u001b[39;00m,               \n\u001b[0;32m      8\u001b[0m                impurity \u001b[38;5;241m=\u001b[39m \u001b[38;5;28;01mFalse\u001b[39;00m,                \n\u001b[0;32m      9\u001b[0m                label \u001b[38;5;241m=\u001b[39m \u001b[38;5;124m'\u001b[39m\u001b[38;5;124mroot\u001b[39m\u001b[38;5;124m'\u001b[39m,                   \n\u001b[0;32m     10\u001b[0m                fontsize \u001b[38;5;241m=\u001b[39m \u001b[38;5;241m10\u001b[39m)\n",
      "File \u001b[1;32m~\\anaconda3\\Lib\\site-packages\\sklearn\\utils\\_param_validation.py:201\u001b[0m, in \u001b[0;36mvalidate_params.<locals>.decorator.<locals>.wrapper\u001b[1;34m(*args, **kwargs)\u001b[0m\n\u001b[0;32m    198\u001b[0m to_ignore \u001b[38;5;241m+\u001b[39m\u001b[38;5;241m=\u001b[39m [\u001b[38;5;124m\"\u001b[39m\u001b[38;5;124mself\u001b[39m\u001b[38;5;124m\"\u001b[39m, \u001b[38;5;124m\"\u001b[39m\u001b[38;5;124mcls\u001b[39m\u001b[38;5;124m\"\u001b[39m]\n\u001b[0;32m    199\u001b[0m params \u001b[38;5;241m=\u001b[39m {k: v \u001b[38;5;28;01mfor\u001b[39;00m k, v \u001b[38;5;129;01min\u001b[39;00m params\u001b[38;5;241m.\u001b[39marguments\u001b[38;5;241m.\u001b[39mitems() \u001b[38;5;28;01mif\u001b[39;00m k \u001b[38;5;129;01mnot\u001b[39;00m \u001b[38;5;129;01min\u001b[39;00m to_ignore}\n\u001b[1;32m--> 201\u001b[0m validate_parameter_constraints(\n\u001b[0;32m    202\u001b[0m     parameter_constraints, params, caller_name\u001b[38;5;241m=\u001b[39mfunc\u001b[38;5;241m.\u001b[39m\u001b[38;5;18m__qualname__\u001b[39m\n\u001b[0;32m    203\u001b[0m )\n\u001b[0;32m    205\u001b[0m \u001b[38;5;28;01mtry\u001b[39;00m:\n\u001b[0;32m    206\u001b[0m     \u001b[38;5;28;01mwith\u001b[39;00m config_context(\n\u001b[0;32m    207\u001b[0m         skip_parameter_validation\u001b[38;5;241m=\u001b[39m(\n\u001b[0;32m    208\u001b[0m             prefer_skip_nested_validation \u001b[38;5;129;01mor\u001b[39;00m global_skip_validation\n\u001b[0;32m    209\u001b[0m         )\n\u001b[0;32m    210\u001b[0m     ):\n",
      "File \u001b[1;32m~\\anaconda3\\Lib\\site-packages\\sklearn\\utils\\_param_validation.py:95\u001b[0m, in \u001b[0;36mvalidate_parameter_constraints\u001b[1;34m(parameter_constraints, params, caller_name)\u001b[0m\n\u001b[0;32m     89\u001b[0m \u001b[38;5;28;01melse\u001b[39;00m:\n\u001b[0;32m     90\u001b[0m     constraints_str \u001b[38;5;241m=\u001b[39m (\n\u001b[0;32m     91\u001b[0m         \u001b[38;5;124mf\u001b[39m\u001b[38;5;124m\"\u001b[39m\u001b[38;5;132;01m{\u001b[39;00m\u001b[38;5;124m'\u001b[39m\u001b[38;5;124m, \u001b[39m\u001b[38;5;124m'\u001b[39m\u001b[38;5;241m.\u001b[39mjoin([\u001b[38;5;28mstr\u001b[39m(c)\u001b[38;5;250m \u001b[39m\u001b[38;5;28;01mfor\u001b[39;00m\u001b[38;5;250m \u001b[39mc\u001b[38;5;250m \u001b[39m\u001b[38;5;129;01min\u001b[39;00m\u001b[38;5;250m \u001b[39mconstraints[:\u001b[38;5;241m-\u001b[39m\u001b[38;5;241m1\u001b[39m]])\u001b[38;5;132;01m}\u001b[39;00m\u001b[38;5;124m or\u001b[39m\u001b[38;5;124m\"\u001b[39m\n\u001b[0;32m     92\u001b[0m         \u001b[38;5;124mf\u001b[39m\u001b[38;5;124m\"\u001b[39m\u001b[38;5;124m \u001b[39m\u001b[38;5;132;01m{\u001b[39;00mconstraints[\u001b[38;5;241m-\u001b[39m\u001b[38;5;241m1\u001b[39m]\u001b[38;5;132;01m}\u001b[39;00m\u001b[38;5;124m\"\u001b[39m\n\u001b[0;32m     93\u001b[0m     )\n\u001b[1;32m---> 95\u001b[0m \u001b[38;5;28;01mraise\u001b[39;00m InvalidParameterError(\n\u001b[0;32m     96\u001b[0m     \u001b[38;5;124mf\u001b[39m\u001b[38;5;124m\"\u001b[39m\u001b[38;5;124mThe \u001b[39m\u001b[38;5;132;01m{\u001b[39;00mparam_name\u001b[38;5;132;01m!r}\u001b[39;00m\u001b[38;5;124m parameter of \u001b[39m\u001b[38;5;132;01m{\u001b[39;00mcaller_name\u001b[38;5;132;01m}\u001b[39;00m\u001b[38;5;124m must be\u001b[39m\u001b[38;5;124m\"\u001b[39m\n\u001b[0;32m     97\u001b[0m     \u001b[38;5;124mf\u001b[39m\u001b[38;5;124m\"\u001b[39m\u001b[38;5;124m \u001b[39m\u001b[38;5;132;01m{\u001b[39;00mconstraints_str\u001b[38;5;132;01m}\u001b[39;00m\u001b[38;5;124m. Got \u001b[39m\u001b[38;5;132;01m{\u001b[39;00mparam_val\u001b[38;5;132;01m!r}\u001b[39;00m\u001b[38;5;124m instead.\u001b[39m\u001b[38;5;124m\"\u001b[39m\n\u001b[0;32m     98\u001b[0m )\n",
      "\u001b[1;31mInvalidParameterError\u001b[0m: The 'feature_names' parameter of plot_tree must be an instance of 'list' or None. Got Index(['age', 'education_num', 'capital_gain', 'capital_loss',\n       'hours_per_week', 'workclass_?', 'workclass_Federal-gov',\n       'workclass_Local-gov', 'workclass_Never-worked', 'workclass_Private',\n       ...\n       'native_country_Portugal', 'native_country_Puerto-Rico',\n       'native_country_Scotland', 'native_country_South',\n       'native_country_Taiwan', 'native_country_Thailand',\n       'native_country_Trinadad&Tobago', 'native_country_United-States',\n       'native_country_Vietnam', 'native_country_Yugoslavia'],\n      dtype='object', length=107) instead."
     ]
    }
   ],
   "source": [
    "import matplotlib.pyplot as plt\n",
    "tree.plot_tree(model,\n",
    "               feature_names = train_x.columns,  \n",
    "               class_names = ['high', 'low'],    \n",
    "               proportion = True,                \n",
    "               filled = True,           \n",
    "               rounded = True,               \n",
    "               impurity = False,                \n",
    "               label = 'root',                   \n",
    "               fontsize = 10);"
   ]
  },
  {
   "cell_type": "code",
   "execution_count": 20,
   "id": "c681b450",
   "metadata": {},
   "outputs": [],
   "source": [
    "test_x = df_test.drop(columns = 'income')  # 예측 변수 추출\n",
    "test_y = df_test['income']  "
   ]
  },
  {
   "cell_type": "code",
   "execution_count": 21,
   "id": "a7d13b94",
   "metadata": {},
   "outputs": [
    {
     "data": {
      "text/html": [
       "<div>\n",
       "<style scoped>\n",
       "    .dataframe tbody tr th:only-of-type {\n",
       "        vertical-align: middle;\n",
       "    }\n",
       "\n",
       "    .dataframe tbody tr th {\n",
       "        vertical-align: top;\n",
       "    }\n",
       "\n",
       "    .dataframe thead th {\n",
       "        text-align: right;\n",
       "    }\n",
       "</style>\n",
       "<table border=\"1\" class=\"dataframe\">\n",
       "  <thead>\n",
       "    <tr style=\"text-align: right;\">\n",
       "      <th></th>\n",
       "      <th>age</th>\n",
       "      <th>education_num</th>\n",
       "      <th>capital_gain</th>\n",
       "      <th>capital_loss</th>\n",
       "      <th>hours_per_week</th>\n",
       "      <th>workclass_?</th>\n",
       "      <th>workclass_Federal-gov</th>\n",
       "      <th>workclass_Local-gov</th>\n",
       "      <th>workclass_Never-worked</th>\n",
       "      <th>workclass_Private</th>\n",
       "      <th>...</th>\n",
       "      <th>native_country_Scotland</th>\n",
       "      <th>native_country_South</th>\n",
       "      <th>native_country_Taiwan</th>\n",
       "      <th>native_country_Thailand</th>\n",
       "      <th>native_country_Trinadad&amp;Tobago</th>\n",
       "      <th>native_country_United-States</th>\n",
       "      <th>native_country_Vietnam</th>\n",
       "      <th>native_country_Yugoslavia</th>\n",
       "      <th>income</th>\n",
       "      <th>pred</th>\n",
       "    </tr>\n",
       "  </thead>\n",
       "  <tbody>\n",
       "    <tr>\n",
       "      <th>11712</th>\n",
       "      <td>58</td>\n",
       "      <td>10</td>\n",
       "      <td>0</td>\n",
       "      <td>0</td>\n",
       "      <td>60</td>\n",
       "      <td>0</td>\n",
       "      <td>0</td>\n",
       "      <td>0</td>\n",
       "      <td>0</td>\n",
       "      <td>0</td>\n",
       "      <td>...</td>\n",
       "      <td>0</td>\n",
       "      <td>0</td>\n",
       "      <td>0</td>\n",
       "      <td>0</td>\n",
       "      <td>0</td>\n",
       "      <td>1</td>\n",
       "      <td>0</td>\n",
       "      <td>0</td>\n",
       "      <td>low</td>\n",
       "      <td>low</td>\n",
       "    </tr>\n",
       "    <tr>\n",
       "      <th>24768</th>\n",
       "      <td>39</td>\n",
       "      <td>10</td>\n",
       "      <td>0</td>\n",
       "      <td>0</td>\n",
       "      <td>40</td>\n",
       "      <td>0</td>\n",
       "      <td>0</td>\n",
       "      <td>0</td>\n",
       "      <td>0</td>\n",
       "      <td>1</td>\n",
       "      <td>...</td>\n",
       "      <td>0</td>\n",
       "      <td>0</td>\n",
       "      <td>0</td>\n",
       "      <td>0</td>\n",
       "      <td>0</td>\n",
       "      <td>0</td>\n",
       "      <td>0</td>\n",
       "      <td>0</td>\n",
       "      <td>low</td>\n",
       "      <td>low</td>\n",
       "    </tr>\n",
       "    <tr>\n",
       "      <th>26758</th>\n",
       "      <td>31</td>\n",
       "      <td>4</td>\n",
       "      <td>0</td>\n",
       "      <td>0</td>\n",
       "      <td>20</td>\n",
       "      <td>0</td>\n",
       "      <td>0</td>\n",
       "      <td>0</td>\n",
       "      <td>0</td>\n",
       "      <td>1</td>\n",
       "      <td>...</td>\n",
       "      <td>0</td>\n",
       "      <td>0</td>\n",
       "      <td>0</td>\n",
       "      <td>0</td>\n",
       "      <td>0</td>\n",
       "      <td>1</td>\n",
       "      <td>0</td>\n",
       "      <td>0</td>\n",
       "      <td>low</td>\n",
       "      <td>low</td>\n",
       "    </tr>\n",
       "    <tr>\n",
       "      <th>14295</th>\n",
       "      <td>23</td>\n",
       "      <td>9</td>\n",
       "      <td>0</td>\n",
       "      <td>0</td>\n",
       "      <td>40</td>\n",
       "      <td>0</td>\n",
       "      <td>0</td>\n",
       "      <td>0</td>\n",
       "      <td>0</td>\n",
       "      <td>1</td>\n",
       "      <td>...</td>\n",
       "      <td>0</td>\n",
       "      <td>0</td>\n",
       "      <td>0</td>\n",
       "      <td>0</td>\n",
       "      <td>0</td>\n",
       "      <td>1</td>\n",
       "      <td>0</td>\n",
       "      <td>0</td>\n",
       "      <td>low</td>\n",
       "      <td>low</td>\n",
       "    </tr>\n",
       "    <tr>\n",
       "      <th>3683</th>\n",
       "      <td>24</td>\n",
       "      <td>9</td>\n",
       "      <td>0</td>\n",
       "      <td>0</td>\n",
       "      <td>40</td>\n",
       "      <td>0</td>\n",
       "      <td>0</td>\n",
       "      <td>0</td>\n",
       "      <td>0</td>\n",
       "      <td>1</td>\n",
       "      <td>...</td>\n",
       "      <td>0</td>\n",
       "      <td>0</td>\n",
       "      <td>0</td>\n",
       "      <td>0</td>\n",
       "      <td>0</td>\n",
       "      <td>1</td>\n",
       "      <td>0</td>\n",
       "      <td>0</td>\n",
       "      <td>low</td>\n",
       "      <td>low</td>\n",
       "    </tr>\n",
       "    <tr>\n",
       "      <th>...</th>\n",
       "      <td>...</td>\n",
       "      <td>...</td>\n",
       "      <td>...</td>\n",
       "      <td>...</td>\n",
       "      <td>...</td>\n",
       "      <td>...</td>\n",
       "      <td>...</td>\n",
       "      <td>...</td>\n",
       "      <td>...</td>\n",
       "      <td>...</td>\n",
       "      <td>...</td>\n",
       "      <td>...</td>\n",
       "      <td>...</td>\n",
       "      <td>...</td>\n",
       "      <td>...</td>\n",
       "      <td>...</td>\n",
       "      <td>...</td>\n",
       "      <td>...</td>\n",
       "      <td>...</td>\n",
       "      <td>...</td>\n",
       "      <td>...</td>\n",
       "    </tr>\n",
       "    <tr>\n",
       "      <th>11985</th>\n",
       "      <td>24</td>\n",
       "      <td>13</td>\n",
       "      <td>0</td>\n",
       "      <td>0</td>\n",
       "      <td>30</td>\n",
       "      <td>0</td>\n",
       "      <td>0</td>\n",
       "      <td>0</td>\n",
       "      <td>0</td>\n",
       "      <td>1</td>\n",
       "      <td>...</td>\n",
       "      <td>0</td>\n",
       "      <td>0</td>\n",
       "      <td>0</td>\n",
       "      <td>0</td>\n",
       "      <td>0</td>\n",
       "      <td>1</td>\n",
       "      <td>0</td>\n",
       "      <td>0</td>\n",
       "      <td>low</td>\n",
       "      <td>low</td>\n",
       "    </tr>\n",
       "    <tr>\n",
       "      <th>48445</th>\n",
       "      <td>35</td>\n",
       "      <td>13</td>\n",
       "      <td>10520</td>\n",
       "      <td>0</td>\n",
       "      <td>45</td>\n",
       "      <td>0</td>\n",
       "      <td>0</td>\n",
       "      <td>0</td>\n",
       "      <td>0</td>\n",
       "      <td>1</td>\n",
       "      <td>...</td>\n",
       "      <td>0</td>\n",
       "      <td>0</td>\n",
       "      <td>0</td>\n",
       "      <td>0</td>\n",
       "      <td>0</td>\n",
       "      <td>1</td>\n",
       "      <td>0</td>\n",
       "      <td>0</td>\n",
       "      <td>high</td>\n",
       "      <td>high</td>\n",
       "    </tr>\n",
       "    <tr>\n",
       "      <th>19639</th>\n",
       "      <td>41</td>\n",
       "      <td>9</td>\n",
       "      <td>0</td>\n",
       "      <td>0</td>\n",
       "      <td>40</td>\n",
       "      <td>0</td>\n",
       "      <td>0</td>\n",
       "      <td>0</td>\n",
       "      <td>0</td>\n",
       "      <td>1</td>\n",
       "      <td>...</td>\n",
       "      <td>0</td>\n",
       "      <td>0</td>\n",
       "      <td>0</td>\n",
       "      <td>0</td>\n",
       "      <td>0</td>\n",
       "      <td>1</td>\n",
       "      <td>0</td>\n",
       "      <td>0</td>\n",
       "      <td>high</td>\n",
       "      <td>low</td>\n",
       "    </tr>\n",
       "    <tr>\n",
       "      <th>21606</th>\n",
       "      <td>29</td>\n",
       "      <td>4</td>\n",
       "      <td>0</td>\n",
       "      <td>0</td>\n",
       "      <td>30</td>\n",
       "      <td>0</td>\n",
       "      <td>0</td>\n",
       "      <td>0</td>\n",
       "      <td>0</td>\n",
       "      <td>1</td>\n",
       "      <td>...</td>\n",
       "      <td>0</td>\n",
       "      <td>0</td>\n",
       "      <td>0</td>\n",
       "      <td>0</td>\n",
       "      <td>0</td>\n",
       "      <td>0</td>\n",
       "      <td>0</td>\n",
       "      <td>0</td>\n",
       "      <td>low</td>\n",
       "      <td>low</td>\n",
       "    </tr>\n",
       "    <tr>\n",
       "      <th>3822</th>\n",
       "      <td>31</td>\n",
       "      <td>13</td>\n",
       "      <td>0</td>\n",
       "      <td>0</td>\n",
       "      <td>40</td>\n",
       "      <td>0</td>\n",
       "      <td>0</td>\n",
       "      <td>0</td>\n",
       "      <td>0</td>\n",
       "      <td>1</td>\n",
       "      <td>...</td>\n",
       "      <td>0</td>\n",
       "      <td>0</td>\n",
       "      <td>0</td>\n",
       "      <td>0</td>\n",
       "      <td>0</td>\n",
       "      <td>1</td>\n",
       "      <td>0</td>\n",
       "      <td>0</td>\n",
       "      <td>low</td>\n",
       "      <td>low</td>\n",
       "    </tr>\n",
       "  </tbody>\n",
       "</table>\n",
       "<p>14653 rows × 109 columns</p>\n",
       "</div>"
      ],
      "text/plain": [
       "       age  education_num  capital_gain  capital_loss  hours_per_week  \\\n",
       "11712   58             10             0             0              60   \n",
       "24768   39             10             0             0              40   \n",
       "26758   31              4             0             0              20   \n",
       "14295   23              9             0             0              40   \n",
       "3683    24              9             0             0              40   \n",
       "...    ...            ...           ...           ...             ...   \n",
       "11985   24             13             0             0              30   \n",
       "48445   35             13         10520             0              45   \n",
       "19639   41              9             0             0              40   \n",
       "21606   29              4             0             0              30   \n",
       "3822    31             13             0             0              40   \n",
       "\n",
       "       workclass_?  workclass_Federal-gov  workclass_Local-gov  \\\n",
       "11712            0                      0                    0   \n",
       "24768            0                      0                    0   \n",
       "26758            0                      0                    0   \n",
       "14295            0                      0                    0   \n",
       "3683             0                      0                    0   \n",
       "...            ...                    ...                  ...   \n",
       "11985            0                      0                    0   \n",
       "48445            0                      0                    0   \n",
       "19639            0                      0                    0   \n",
       "21606            0                      0                    0   \n",
       "3822             0                      0                    0   \n",
       "\n",
       "       workclass_Never-worked  workclass_Private  ...  \\\n",
       "11712                       0                  0  ...   \n",
       "24768                       0                  1  ...   \n",
       "26758                       0                  1  ...   \n",
       "14295                       0                  1  ...   \n",
       "3683                        0                  1  ...   \n",
       "...                       ...                ...  ...   \n",
       "11985                       0                  1  ...   \n",
       "48445                       0                  1  ...   \n",
       "19639                       0                  1  ...   \n",
       "21606                       0                  1  ...   \n",
       "3822                        0                  1  ...   \n",
       "\n",
       "       native_country_Scotland  native_country_South  native_country_Taiwan  \\\n",
       "11712                        0                     0                      0   \n",
       "24768                        0                     0                      0   \n",
       "26758                        0                     0                      0   \n",
       "14295                        0                     0                      0   \n",
       "3683                         0                     0                      0   \n",
       "...                        ...                   ...                    ...   \n",
       "11985                        0                     0                      0   \n",
       "48445                        0                     0                      0   \n",
       "19639                        0                     0                      0   \n",
       "21606                        0                     0                      0   \n",
       "3822                         0                     0                      0   \n",
       "\n",
       "       native_country_Thailand  native_country_Trinadad&Tobago  \\\n",
       "11712                        0                               0   \n",
       "24768                        0                               0   \n",
       "26758                        0                               0   \n",
       "14295                        0                               0   \n",
       "3683                         0                               0   \n",
       "...                        ...                             ...   \n",
       "11985                        0                               0   \n",
       "48445                        0                               0   \n",
       "19639                        0                               0   \n",
       "21606                        0                               0   \n",
       "3822                         0                               0   \n",
       "\n",
       "       native_country_United-States  native_country_Vietnam  \\\n",
       "11712                             1                       0   \n",
       "24768                             0                       0   \n",
       "26758                             1                       0   \n",
       "14295                             1                       0   \n",
       "3683                              1                       0   \n",
       "...                             ...                     ...   \n",
       "11985                             1                       0   \n",
       "48445                             1                       0   \n",
       "19639                             1                       0   \n",
       "21606                             0                       0   \n",
       "3822                              1                       0   \n",
       "\n",
       "       native_country_Yugoslavia  income  pred  \n",
       "11712                          0     low   low  \n",
       "24768                          0     low   low  \n",
       "26758                          0     low   low  \n",
       "14295                          0     low   low  \n",
       "3683                           0     low   low  \n",
       "...                          ...     ...   ...  \n",
       "11985                          0     low   low  \n",
       "48445                          0    high  high  \n",
       "19639                          0    high   low  \n",
       "21606                          0     low   low  \n",
       "3822                           0     low   low  \n",
       "\n",
       "[14653 rows x 109 columns]"
      ]
     },
     "execution_count": 21,
     "metadata": {},
     "output_type": "execute_result"
    }
   ],
   "source": [
    "df_test['pred'] = model.predict(test_x)\n",
    "df_test"
   ]
  },
  {
   "cell_type": "code",
   "execution_count": 28,
   "id": "258311cf",
   "metadata": {},
   "outputs": [
    {
     "data": {
      "text/plain": [
       "array([[ 1801,  1705],\n",
       "       [  582, 10565]], dtype=int64)"
      ]
     },
     "execution_count": 28,
     "metadata": {},
     "output_type": "execute_result"
    }
   ],
   "source": [
    "from sklearn.metrics import confusion_matrix\n",
    "conf_mat = confusion_matrix(y_true = df_test['income'],\n",
    "                            y_pred = df_test['pred'],\n",
    "                           labels = ['high', 'low'])\n",
    "conf_mat"
   ]
  },
  {
   "cell_type": "code",
   "execution_count": 30,
   "id": "43b35065",
   "metadata": {},
   "outputs": [],
   "source": [
    "plt.rcParams.update(plt.rcParamsDefault)"
   ]
  },
  {
   "cell_type": "code",
   "execution_count": 36,
   "id": "0b037bf6",
   "metadata": {},
   "outputs": [
    {
     "data": {
      "text/plain": [
       "<sklearn.metrics._plot.confusion_matrix.ConfusionMatrixDisplay at 0x241abd0bf90>"
      ]
     },
     "execution_count": 36,
     "metadata": {},
     "output_type": "execute_result"
    }
   ],
   "source": [
    "from sklearn.metrics import ConfusionMatrixDisplay\n",
    "p = ConfusionMatrixDisplay(confusion_matrix = conf_mat,\n",
    "                           display_labels = ('high', 'low'))\n",
    "\n",
    "p.plot(cmap = 'Blues') "
   ]
  },
  {
   "cell_type": "code",
   "execution_count": 37,
   "id": "18295bde",
   "metadata": {},
   "outputs": [
    {
     "data": {
      "text/plain": [
       "0.8439227461953184"
      ]
     },
     "execution_count": 37,
     "metadata": {},
     "output_type": "execute_result"
    }
   ],
   "source": [
    "import sklearn.metrics as metrics\n",
    "metrics.accuracy_score(y_true = df_test['income'],\n",
    "                       y_pred = df_test['pred'])"
   ]
  },
  {
   "cell_type": "code",
   "execution_count": 38,
   "id": "82ed3679",
   "metadata": {},
   "outputs": [
    {
     "data": {
      "text/plain": [
       "0.7557700377675199"
      ]
     },
     "execution_count": 38,
     "metadata": {},
     "output_type": "execute_result"
    }
   ],
   "source": [
    "metrics.precision_score(y_true = df_test['income'],\n",
    "                        y_pred = df_test['pred'],\n",
    "                        pos_label = 'high')"
   ]
  },
  {
   "cell_type": "code",
   "execution_count": 39,
   "id": "8d4ee750",
   "metadata": {},
   "outputs": [
    {
     "data": {
      "text/plain": [
       "0.5136908157444381"
      ]
     },
     "execution_count": 39,
     "metadata": {},
     "output_type": "execute_result"
    }
   ],
   "source": [
    "metrics.recall_score(y_true = df_test['income'],\n",
    "                     y_pred = df_test['pred'],\n",
    "                     pos_label = 'high') "
   ]
  },
  {
   "cell_type": "code",
   "execution_count": 40,
   "id": "2e4a2748",
   "metadata": {},
   "outputs": [
    {
     "data": {
      "text/plain": [
       "0.6116488368143997"
      ]
     },
     "execution_count": 40,
     "metadata": {},
     "output_type": "execute_result"
    }
   ],
   "source": [
    "metrics.f1_score(y_true = df_test['income'], \n",
    "                 y_pred = df_test['pred'], \n",
    "                 pos_label = 'high') "
   ]
  },
  {
   "cell_type": "code",
   "execution_count": null,
   "id": "b1cc3441",
   "metadata": {},
   "outputs": [],
   "source": []
  }
 ],
 "metadata": {
  "kernelspec": {
   "display_name": "Python 3 (ipykernel)",
   "language": "python",
   "name": "python3"
  },
  "language_info": {
   "codemirror_mode": {
    "name": "ipython",
    "version": 3
   },
   "file_extension": ".py",
   "mimetype": "text/x-python",
   "name": "python",
   "nbconvert_exporter": "python",
   "pygments_lexer": "ipython3",
   "version": "3.11.4"
  }
 },
 "nbformat": 4,
 "nbformat_minor": 5
}
